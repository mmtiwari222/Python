{
  "cells": [
    {
      "cell_type": "markdown",
      "metadata": {
        "id": "A05OG15VqOPF"
      },
      "source": [
        "# Task : Session 1\n",
        "Solve these questions own your own and try to test yourself what you have learned in the session.\n",
        "\n",
        "Happy Learning!"
      ]
    },
    {
      "cell_type": "markdown",
      "metadata": {
        "id": "2doIXf8bqe9_"
      },
      "source": [
        "### Q1 :- Print the given strings as per stated format.\n",
        "\n",
        "**Given strings**:\n",
        "```\n",
        "\"Data\" \"Science\" \"Mentorship\" \"Program\"\n",
        "\"By\" \"CampusX\"\n",
        "```\n",
        "**Output**:\n",
        "```\n",
        "Data-Science-Mentorship-Program-started-By-CampusX\n",
        "```\n",
        "\n",
        "Concept- [Seperator and End]"
      ]
    },
    {
      "cell_type": "code",
      "execution_count": 7,
      "metadata": {
        "id": "-em6d3KErDtp"
      },
      "outputs": [
        {
          "name": "stdout",
          "output_type": "stream",
          "text": [
            "Data-Science-Mentorship-Program-started-By-CampusX\n",
            "Data-Science-Mentorship-Program-started-By-CampusX\n"
          ]
        }
      ],
      "source": [
        "print(\"Data\", \"Science\", \"Mentorship\", \"Program\", \"started\", \"By\", \"CampusX\", sep=\"-\", end=\"\\n\",) # 1st Way \n",
        "print(\"Data\", \"Science\", \"Mentorship\", \"Program\", sep=\"-\", end=\"-\") # 2nd Way\n",
        "print(\"started\", end=\"-\")\n",
        "print(\"By\", \"CampusX\",sep=\"-\")"
      ]
    },
    {
      "cell_type": "markdown",
      "metadata": {
        "id": "1KUpN7ZTrC3_"
      },
      "source": [
        "### Q2:- Write a program that will convert celsius value to fahrenheit."
      ]
    },
    {
      "cell_type": "code",
      "execution_count": 1,
      "metadata": {
        "id": "yxKYhYQiqWfj"
      },
      "outputs": [
        {
          "name": "stdout",
          "output_type": "stream",
          "text": [
            "The temperature in fahrenheit is: 50.0°F\n"
          ]
        }
      ],
      "source": [
        "temp = int(input(\"Enter the Temp in Celcius:\"))\n",
        "\n",
        "fahrenheit = (temp * 9/5 ) + 32\n",
        "\n",
        "print(\"The temperature in fahrenheit is: \", fahrenheit,\"°F\", sep=\"\")"
      ]
    },
    {
      "cell_type": "markdown",
      "metadata": {
        "id": "RLrOBBJurLB2"
      },
      "source": [
        "### Q3:- Take 2 numbers as input from the user.Write a program to swap the numbers without using any special python syntax."
      ]
    },
    {
      "cell_type": "code",
      "execution_count": 13,
      "metadata": {
        "id": "yPn7if0TrJ4F"
      },
      "outputs": [
        {
          "name": "stdout",
          "output_type": "stream",
          "text": [
            "After swapping the value of variables, 1st Number = 3, and 2nd Number = 2\n"
          ]
        }
      ],
      "source": [
        "# Write your code here\n",
        "number1 = int(input(\"Enter 1st Number\"))\n",
        "number2 = int(input(\"Enter 2nd Number\"))\n",
        "\n",
        "# Swapping variable values without using 3rd variable\n",
        "# number1 = number1 + number2 \n",
        "# number2 = number1 - number2\n",
        "# number1 = number1 - number2\n",
        "\n",
        "# Swapping variable values using 3rd variable\n",
        "temp = number1\n",
        "number1 = number2\n",
        "number2 = temp\n",
        "\n",
        "print(f\"After swapping the value of variables, 1st Number = {number1}, and 2nd Number = {number2}\")"
      ]
    },
    {
      "cell_type": "markdown",
      "metadata": {
        "id": "waLCP1bjr7ML"
      },
      "source": [
        "### Q4:- Write a program to find the euclidean distance between two coordinates.Take both the coordinates from the user as input."
      ]
    },
    {
      "cell_type": "code",
      "execution_count": null,
      "metadata": {},
      "outputs": [
        {
          "name": "stdout",
          "output_type": "stream",
          "text": [
            "The Euclidean distance between (2.0, 3.0) and (5.0, 7.0) is: 5.0\n"
          ]
        }
      ],
      "source": [
        "# using math library\n",
        "import math\n",
        "x1 =  float(input(\"Enter x1: \"))\n",
        "y1 =  float(input(\"Enter y1: \"))\n",
        "x2 =  float(input(\"Enter x2: \"))\n",
        "y2 =  float(input(\"Enter y2: \"))\n",
        "\n",
        "#distance = math.sqrt((x2-x1)**2 + (y2-y1)**2 )\n",
        "# without using math library\n",
        "distance = ((x2 - x1)**2 + (y2 - y1)**2) ** 0.5\n",
        "\n",
        "print(f\"The Euclidean distance between ({x1}, {y1}) and ({x2}, {y2}) is: {distance}\")\n",
        "\n"
      ]
    },
    {
      "cell_type": "markdown",
      "metadata": {
        "id": "VLrhg-FRsHjR"
      },
      "source": [
        "### Q5:- Write a program to find the simple interest when the value of principle,rate of interest and time period is provided by the user.\n"
      ]
    },
    {
      "cell_type": "code",
      "execution_count": null,
      "metadata": {
        "id": "s40DlReZsTmY"
      },
      "outputs": [
        {
          "name": "stdout",
          "output_type": "stream",
          "text": [
            "The Simple Interest of principle amount 1000, for the time period of 2 years and which rate of interest is 10.0  -- 200.0\n"
          ]
        }
      ],
      "source": [
        "# Write your code here\n",
        "principle = int(input(\"Enter the principle amount: \"))\n",
        "time = int(input(\"Enter time in Years: \"))\n",
        "rate = float(input(\"Enter rate of interest: \"))\n",
        "\n",
        "# Calculate Simple Interest - Principle amount * Time * Rate of Interest / 100\n",
        "SI = (principle * time * rate / 100)\n",
        "\n",
        "print(f\"The Simple Interest of principle amount {principle}, for the time period of {time} years and rate of interest is {rate}  -- {SI}\")"
      ]
    },
    {
      "cell_type": "markdown",
      "metadata": {
        "id": "LMy0BTUktYKa"
      },
      "source": [
        "### Q6:- Write a program that will tell the number of dogs and chicken are there when the user will provide the value of total heads and legs.\n",
        "\n",
        "For example:\n",
        "Input:\n",
        "heads -> 4\n",
        "legs -> 12\n",
        "<br>\n",
        "Output:\n",
        "dogs -> 2\n",
        "chicken -> 2\n",
        "\n",
        "\n",
        "\n"
      ]
    },
    {
      "cell_type": "code",
      "execution_count": 7,
      "metadata": {
        "id": "XSBvJoA4tXaG"
      },
      "outputs": [
        {
          "name": "stdout",
          "output_type": "stream",
          "text": [
            "No valid solution exists with the given heads and legs!\n"
          ]
        }
      ],
      "source": [
        "# Write your code here\n",
        "heads = int(input(\"Enter the numbers of heads: \"))\n",
        "legs = int(input(\"Enter the numbers of legs: \"))\n",
        "\n",
        "dogs = (legs-2*heads)//2\n",
        "chickens = heads - dogs\n",
        "\n",
        "if dogs>= 0 and chickens >= 0 and (legs == 2*chickens + 4* dogs):\n",
        "    print(f\"Numbers of chickens: {chickens}\")\n",
        "    print(f\"Numbers of dogs: {dogs}\")\n",
        "else:\n",
        "    print(\"No valid solution exists with the given heads and legs!\")\n"
      ]
    },
    {
      "cell_type": "markdown",
      "metadata": {
        "id": "gJ7C5kZYt4BP"
      },
      "source": [
        "### Q7:- Write a program to find the sum of squares of first n natural numbers where n will be provided by the user."
      ]
    },
    {
      "cell_type": "code",
      "execution_count": 10,
      "metadata": {
        "id": "_tHsmEHzt2nX"
      },
      "outputs": [
        {
          "name": "stdout",
          "output_type": "stream",
          "text": [
            "Sum of squares of first 5 natural numbers is: 55\n"
          ]
        }
      ],
      "source": [
        "# Write your code here\n",
        "n = int(input(\"Enter the value of n: \"))\n",
        "\n",
        "sumOf_squares = 0\n",
        "for i in range(1, n+1):\n",
        "    sumOf_squares += i**2\n",
        "print(f\"Sum of squares of first {n} natural numbers is: {sumOf_squares}\")"
      ]
    },
    {
      "cell_type": "markdown",
      "metadata": {
        "id": "FHrMM7g-yG1h"
      },
      "source": [
        "### Q8:- Given the first 2 terms of an Arithmetic Series.Find the Nth term of the series. Assume all inputs are provided by the user."
      ]
    },
    {
      "cell_type": "code",
      "execution_count": 11,
      "metadata": {
        "id": "go4_kmZmyVSx"
      },
      "outputs": [
        {
          "name": "stdout",
          "output_type": "stream",
          "text": [
            "The 5th term of the Arithmetic Series is: 10\n"
          ]
        }
      ],
      "source": [
        "# Write your code here\n",
        "# formula - Tn​=a1​+(n−1)⋅d\n",
        "\n",
        "# input given by user\n",
        "a1 = int(input(\"enter the 1st term of a.p.: \"))\n",
        "a2 = int(input(\"enter the 2nd term of a.p.: \"))\n",
        "n = int(input(\"enter the term number: \"))\n",
        "\n",
        "# Find common difference\n",
        "d = a2 - a1 \n",
        "\n",
        "\n",
        "# Formula for nth term\n",
        "Tn = a1 + (n-1)* d\n",
        "\n",
        "# Ouput\n",
        "print(f\"The {n}th term of the Arithmetic Series is: {Tn}\")"
      ]
    },
    {
      "cell_type": "markdown",
      "metadata": {
        "id": "QgyRX_es1oum"
      },
      "source": [
        "### Q9:- Given 2 fractions, find the sum of those 2 fractions.Take the numerator and denominator values of the fractions from the user."
      ]
    },
    {
      "cell_type": "code",
      "execution_count": 12,
      "metadata": {
        "id": "X05xqFS1yW16"
      },
      "outputs": [
        {
          "name": "stdout",
          "output_type": "stream",
          "text": [
            "The sum of fractions = 13/6\n"
          ]
        }
      ],
      "source": [
        "# Input fraction 1\n",
        "num1 = int(input(\"Enter numerator of first fraction: \"))\n",
        "den1 = int(input(\"Enter denominator of first fraction: \"))\n",
        "\n",
        "# Input fraction 2\n",
        "num2 = int(input(\"Enter numerator of second fraction: \"))\n",
        "den2 = int(input(\"Enter denominator of second fraction: \"))\n",
        "\n",
        "# Formula for sum\n",
        "numerator = num1 * den2 + num2 * den1\n",
        "denominator = den1 * den2\n",
        "\n",
        "# Output (not simplified)\n",
        "print(f\"The sum of fractions = {numerator}/{denominator}\")"
      ]
    },
    {
      "cell_type": "markdown",
      "metadata": {
        "id": "eaql38ln13u7"
      },
      "source": [
        "### Q10:- Given the height, width and breadth of a milk tank, you have to find out how many glasses of milk can be obtained? Assume all the inputs are provided by the user.\n",
        "\n",
        "\n",
        "\n",
        "Input:<br>\n",
        "Dimensions of the milk tank<br>\n",
        "H = 20cm, L = 20cm, B = 20cm\n",
        "<br><br>\n",
        "Dimensions of the glass<br>\n",
        "h = 3cm, r = 1cm"
      ]
    },
    {
      "cell_type": "code",
      "execution_count": 14,
      "metadata": {
        "id": "FePZqno74eWv"
      },
      "outputs": [
        {
          "name": "stdout",
          "output_type": "stream",
          "text": [
            "\n",
            "Volume of tank: 125.00 cm³\n",
            "Volume of one glass: 15.71 cm³\n",
            "Number of full glasses of milk: 7\n"
          ]
        }
      ],
      "source": [
        "import math\n",
        "\n",
        "# Taking tank dimensions from user\n",
        "H = float(input(\"Enter the height of the tank (cm): \"))\n",
        "L = float(input(\"Enter the length of the tank (cm): \"))\n",
        "B = float(input(\"Enter the breadth of the tank (cm): \"))\n",
        "\n",
        "# Taking glass dimensions from user\n",
        "h = float(input(\"Enter the height of the glass (cm): \"))\n",
        "r = float(input(\"Enter the radius of the glass (cm): \"))\n",
        "\n",
        "# Volumes\n",
        "tank_volume = H * L * B  # Cuboid\n",
        "glass_volume = math.pi * (r**2) * h  # Cylinder\n",
        "\n",
        "# Number of glasses\n",
        "num_glasses = int(tank_volume // glass_volume)  # only full glasses\n",
        "\n",
        "print(f\"\\nVolume of tank: {tank_volume:.2f} cm³\")\n",
        "print(f\"Volume of one glass: {glass_volume:.2f} cm³\")\n",
        "print(f\"Number of full glasses of milk: {num_glasses}\")\n"
      ]
    }
  ],
  "metadata": {
    "colab": {
      "provenance": []
    },
    "kernelspec": {
      "display_name": ".venv",
      "language": "python",
      "name": "python3"
    },
    "language_info": {
      "codemirror_mode": {
        "name": "ipython",
        "version": 3
      },
      "file_extension": ".py",
      "mimetype": "text/x-python",
      "name": "python",
      "nbconvert_exporter": "python",
      "pygments_lexer": "ipython3",
      "version": "3.12.3"
    }
  },
  "nbformat": 4,
  "nbformat_minor": 0
}
